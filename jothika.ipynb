{
  "nbformat": 4,
  "nbformat_minor": 0,
  "metadata": {
    "colab": {
      "name": "jothika.ipynb",
      "provenance": []
    },
    "kernelspec": {
      "name": "python3",
      "display_name": "Python 3"
    },
    "language_info": {
      "name": "python"
    }
  },
  "cells": [
    {
      "cell_type": "code",
      "metadata": {
        "id": "f9Vk9hjjn4-Q"
      },
      "source": [
        "from keras.datasets import mnist\n",
        "data = mnist.load_data()"
      ],
      "execution_count": 33,
      "outputs": []
    },
    {
      "cell_type": "code",
      "metadata": {
        "id": "t8diaU2Rpvk4"
      },
      "source": [
        "(X_train, y_train),(X_test, y_test) = mnist.load_data()"
      ],
      "execution_count": 34,
      "outputs": []
    },
    {
      "cell_type": "code",
      "metadata": {
        "colab": {
          "base_uri": "https://localhost:8080/"
        },
        "id": "no7VulWDp-o8",
        "outputId": "768f0163-ad58-43f7-f0a3-8a2f14b2cf41"
      },
      "source": [
        "X_train[0].shape\n"
      ],
      "execution_count": 35,
      "outputs": [
        {
          "output_type": "execute_result",
          "data": {
            "text/plain": [
              "(28, 28)"
            ]
          },
          "metadata": {
            "tags": []
          },
          "execution_count": 35
        }
      ]
    },
    {
      "cell_type": "code",
      "metadata": {
        "id": "f3mGa_TMqwDc"
      },
      "source": [
        "X_train = X_train.reshape((X_train.shape[0], 28*28)).astype('float32')\n",
        "X_test = X_test.reshape((X_test.shape[0], 28*28)).astype('float32')"
      ],
      "execution_count": 36,
      "outputs": []
    },
    {
      "cell_type": "code",
      "metadata": {
        "id": "WfjI1B_GrTW0"
      },
      "source": [
        "x_train =X_train / 255\n",
        "X_tese = X_test / 255"
      ],
      "execution_count": 37,
      "outputs": []
    },
    {
      "cell_type": "code",
      "metadata": {
        "id": "ElgyJmugrfow"
      },
      "source": [
        "from keras.utils import np_utils \n",
        "\n",
        "y_train = np_utils.to_categorical(y_train)\n",
        "y_test = np_utils.to_categorical(y_test)\n",
        "num_classes = y_test.shape[1]"
      ],
      "execution_count": 38,
      "outputs": []
    },
    {
      "cell_type": "code",
      "metadata": {
        "id": "TyeILHpdr5zw"
      },
      "source": [
        "from keras.models import Sequential\n",
        "from keras.layers import Dense\n",
        "from keras.layers import Dropout"
      ],
      "execution_count": 39,
      "outputs": []
    },
    {
      "cell_type": "code",
      "metadata": {
        "id": "TgYCMJS3sErE"
      },
      "source": [
        "model = Sequential()\n",
        "model.add(Dense(32,input_dim=28*28,activation='relu'))\n",
        "model.add(Dense(64, activation='relu'))\n",
        "model.add(Dense(10, activation='softmax'))"
      ],
      "execution_count": 40,
      "outputs": []
    },
    {
      "cell_type": "code",
      "metadata": {
        "id": "vg8jzwtesr1U"
      },
      "source": [
        "model.compile(loss='categorical_crossentropy',optimizer='adam',metrics=['accuracy'])"
      ],
      "execution_count": 41,
      "outputs": []
    },
    {
      "cell_type": "code",
      "metadata": {
        "colab": {
          "base_uri": "https://localhost:8080/"
        },
        "id": "OM_Upbmns-08",
        "outputId": "9efc9214-1cfc-4113-a77f-880a1fbfb193"
      },
      "source": [
        "model.summary()"
      ],
      "execution_count": 42,
      "outputs": [
        {
          "output_type": "stream",
          "text": [
            "Model: \"sequential_4\"\n",
            "_________________________________________________________________\n",
            "Layer (type)                 Output Shape              Param #   \n",
            "=================================================================\n",
            "dense_9 (Dense)              (None, 32)                25120     \n",
            "_________________________________________________________________\n",
            "dense_10 (Dense)             (None, 64)                2112      \n",
            "_________________________________________________________________\n",
            "dense_11 (Dense)             (None, 10)                650       \n",
            "=================================================================\n",
            "Total params: 27,882\n",
            "Trainable params: 27,882\n",
            "Non-trainable params: 0\n",
            "_________________________________________________________________\n"
          ],
          "name": "stdout"
        }
      ]
    },
    {
      "cell_type": "code",
      "metadata": {
        "colab": {
          "base_uri": "https://localhost:8080/"
        },
        "id": "KibQ1JUStGis",
        "outputId": "0d92c7cb-0f86-4d2f-d884-60142683c985"
      },
      "source": [
        "model.fit(X_train, y_train, validation_split=0.2 , epochs=10, batch_size=100)"
      ],
      "execution_count": 43,
      "outputs": [
        {
          "output_type": "stream",
          "text": [
            "Epoch 1/10\n",
            "480/480 [==============================] - 2s 3ms/step - loss: 8.9312 - accuracy: 0.4701 - val_loss: 0.8291 - val_accuracy: 0.7407\n",
            "Epoch 2/10\n",
            "480/480 [==============================] - 1s 2ms/step - loss: 0.7656 - accuracy: 0.7763 - val_loss: 0.5439 - val_accuracy: 0.8622\n",
            "Epoch 3/10\n",
            "480/480 [==============================] - 1s 2ms/step - loss: 0.5023 - accuracy: 0.8671 - val_loss: 0.4200 - val_accuracy: 0.8953\n",
            "Epoch 4/10\n",
            "480/480 [==============================] - 1s 2ms/step - loss: 0.3860 - accuracy: 0.8977 - val_loss: 0.3916 - val_accuracy: 0.8992\n",
            "Epoch 5/10\n",
            "480/480 [==============================] - 1s 2ms/step - loss: 0.3591 - accuracy: 0.9035 - val_loss: 0.3641 - val_accuracy: 0.9093\n",
            "Epoch 6/10\n",
            "480/480 [==============================] - 1s 2ms/step - loss: 0.3225 - accuracy: 0.9133 - val_loss: 0.3525 - val_accuracy: 0.9136\n",
            "Epoch 7/10\n",
            "480/480 [==============================] - 1s 2ms/step - loss: 0.3113 - accuracy: 0.9164 - val_loss: 0.3381 - val_accuracy: 0.9157\n",
            "Epoch 8/10\n",
            "480/480 [==============================] - 1s 2ms/step - loss: 0.2909 - accuracy: 0.9225 - val_loss: 0.3441 - val_accuracy: 0.9140\n",
            "Epoch 9/10\n",
            "480/480 [==============================] - 1s 2ms/step - loss: 0.2780 - accuracy: 0.9274 - val_loss: 0.3052 - val_accuracy: 0.9248\n",
            "Epoch 10/10\n",
            "480/480 [==============================] - 1s 2ms/step - loss: 0.2622 - accuracy: 0.9314 - val_loss: 0.3397 - val_accuracy: 0.9168\n"
          ],
          "name": "stdout"
        },
        {
          "output_type": "execute_result",
          "data": {
            "text/plain": [
              "<tensorflow.python.keras.callbacks.History at 0x7f18d3b81590>"
            ]
          },
          "metadata": {
            "tags": []
          },
          "execution_count": 43
        }
      ]
    },
    {
      "cell_type": "code",
      "metadata": {
        "colab": {
          "base_uri": "https://localhost:8080/"
        },
        "id": "9VgfZxaQunMo",
        "outputId": "8c186e6c-07be-40f5-9d80-a93d30d14ac0"
      },
      "source": [
        "scores = model.evaluate(X_test, y_test)\n",
        "print(scores)"
      ],
      "execution_count": 44,
      "outputs": [
        {
          "output_type": "stream",
          "text": [
            "313/313 [==============================] - 1s 1ms/step - loss: 0.3362 - accuracy: 0.9145\n",
            "[0.3361724615097046, 0.9144999980926514]\n"
          ],
          "name": "stdout"
        }
      ]
    }
  ]
}